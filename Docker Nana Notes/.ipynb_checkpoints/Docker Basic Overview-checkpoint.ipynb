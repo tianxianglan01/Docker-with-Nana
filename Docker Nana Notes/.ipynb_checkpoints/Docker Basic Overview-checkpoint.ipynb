{
 "cells": [
  {
   "cell_type": "markdown",
   "id": "bf197e28",
   "metadata": {},
   "source": [
    "### Goal\n",
    "To learn Docker and Docker Compose for work.\n",
    "\n",
    "Youtube video can be found here: https://www.youtube.com/watch?v=3c-iBn73dDE&t=2s\n",
    "\n",
    "Course Syllabus: \n",
    "- What is Docker? What is a container?\n",
    "- Docker vs Virtual Machine\n",
    "- Docker Installation\n",
    "- Main Commands\n",
    "- Debugging a Container\n",
    "- Persisting Data (volume types)\n",
    "\n",
    "Demo Project\n",
    "- Develop Containers\n",
    "- run multiple containers with docker compose\n",
    "- build own docker image with docker file\n",
    "- push docker image to a private docer respository on AWS\n",
    "- deply containerezed app\n",
    "- volumes demo"
   ]
  },
  {
   "cell_type": "markdown",
   "id": "966b6f33",
   "metadata": {},
   "source": [
    "### What is Docker?\n",
    "\n",
    "What is a container?\n",
    "- A way to package application wtih all necessary dependencies and configurations\n",
    "- package is portable, can be easily shared or moved around\n",
    "- makes development and deployment more efficient\n",
    "\n",
    "Where do containers live?\n",
    "- containers live in a container repository (special container for containers)\n",
    "- private repositories: where companies host or store containers\n",
    "- public repository: can browse and find any application you want on dockerhub\n",
    "\n",
    "Example: you help create an app that uses POSTGRES and Redis but you work on MacOS and your teammember works on Linux \n",
    "\n",
    "Before Containers\n",
    "- install most services on your os directly. Have to configure for their specifc environment/OS\n",
    "- many steps where something could go wrong\n",
    "\n",
    "After Containers\n",
    "- do not have to install any services on your own operating system \n",
    "- the container is its own isolated environment\n",
    "- packaged with all needed configs. So Postgres SQL of a specific version is packaged with configs in the start script inside of one container\n",
    "- developer checks out container repository to find specific container and download on local machine\n",
    "- one docker command (download) to fetch container and start at the same time\n",
    "- can run apps with 2 different versions\n",
    "\n",
    "What is an image?\n",
    "- a docker image is a file used to execute code in a docker container. They act as a set of instructions to build a docker container. So I guess a redis image is a series of instructions that build a container for the red "
   ]
  },
  {
   "cell_type": "markdown",
   "id": "e983670b",
   "metadata": {},
   "source": [
    "### Application Development\n",
    "\n",
    "Before containers\n",
    "- Development team produce artificats with instructions to install and configure artificats on server (artifact being jar file or database)\n",
    "- artifacts would be sent to operations team who would setup environment to deploy apps\n",
    "- problems: need to configure everything and install on OS, could lead to dependency versions, miunderstandings between operations team and evelopment team (developer forgets to mention some instruction)\n",
    "\n",
    "After containers\n",
    "- devopers and operations work together in one team to package whole configuration and depdencies in one app\n",
    "- no environmental configuration needed on server\n",
    "- just have to run docker command to pull container image in repository and run it\n",
    "- need to setup docker runtime on server before you run a container (one time effort)"
   ]
  },
  {
   "cell_type": "markdown",
   "id": "3274f79a",
   "metadata": {},
   "source": [
    "### What is a Container?\n",
    "\n",
    "- Containers are layers of images\n",
    "- mostly linux base images \n",
    "- container images should be small because we want small containers\n",
    "- on top of base image, you have application image with intermediate images in between\n",
    "- and configuration data\n",
    "\n",
    "Commands to run docker to pull a repository can be found on that repositories web page\n",
    "\n",
    "'docker run postgres:9.6'\n",
    "\n",
    "- When you're downloading from dockerhub, several layers are downloaded form docker hub to your local machine. \n",
    "- layers are good because if the image changes or you switch to a different version of postgres, the layers that are the same between both version of postgres won't be downloaded again\n",
    "- docker run fetches container and also runs it at the same time"
   ]
  },
  {
   "cell_type": "markdown",
   "id": "44c44f36",
   "metadata": {},
   "source": [
    "### Difference between an image and a container\n",
    "- images are the actual packages (the app package) with configs and dependency. The artifact\n",
    "- a container is when you pull the image on your local machine and you actually start it.\n",
    "- When it's started a container environment is created\n",
    "\n",
    "### What is a Container? (ctd.)\n",
    "- What if you want to run another version of Postgres at the SAME TIME?\n",
    "- 'run postgres:10.10'\n",
    "- 'docker ps' "
   ]
  },
  {
   "cell_type": "markdown",
   "id": "5875aef6",
   "metadata": {},
   "source": [
    "### Docker vs Virtual Machine\n",
    "- How is an operating System made up?\n",
    "\n",
    "Os have two layers: the OS Kernel and the Application\n",
    "- the kernel is the part with hardware such as CPU and memory\n",
    "- the applications run on the kernel layer where the application is the app itself\n",
    "- ie Linux OS has many different versions. Even though they use the same linux kernel, they have many different applications on top of that kernel\n",
    "\n",
    "- docker and virtual machines are both virtualizaiton tools\n",
    "The Question becomes: What parts of the OS do they (docker or vm) virtualize?\n",
    "- docker virtualizes the applications layer\n",
    "- when you download a docker image, it contains the applications layer of the OS, and it uses the kernel of the host because it doesn't have its own kernel \n",
    "- a VM has an application layer and its own kernel and virtualizes its complete OS\n",
    "- when you download a vm on your host, it doesn't use its host kernel. It boots up its own. Right because a virtual machine is run from a server with its own kernel. If you were to run an application from your local machine, you would use YOUR OWN kernel\n",
    "\n",
    "So the difference between docker and vm means!!\n",
    "- size of docker images are much smaller because they need to implement 1 layer. are a couple mb. vms can be a couple of gbs\n",
    "- speed: docker containers start and run much faster cause you have to boot OS kernel\n",
    "- compatibility: you can run a vm image on any os host (run a windows on a macbook pro or a linux etc)\n",
    "\n",
    "So what's the problem?\n",
    "- you have a windows OS host and want to run a linux based docker image. The linux based docker image might not be compatible with a windows kernel. This is true for older windows versions and mac versions.\n",
    "- you need to first check if your host can run docker natively\n",
    "- which means is your kernel compatible with docker images?\n",
    "- the workaround is to install docker toolbox which abstracts away kernel to make possible for host to run different docker images"
   ]
  },
  {
   "cell_type": "code",
   "execution_count": null,
   "id": "3113c881",
   "metadata": {},
   "outputs": [],
   "source": []
  }
 ],
 "metadata": {
  "kernelspec": {
   "display_name": "Python 3 (ipykernel)",
   "language": "python",
   "name": "python3"
  },
  "language_info": {
   "codemirror_mode": {
    "name": "ipython",
    "version": 3
   },
   "file_extension": ".py",
   "mimetype": "text/x-python",
   "name": "python",
   "nbconvert_exporter": "python",
   "pygments_lexer": "ipython3",
   "version": "3.9.6"
  }
 },
 "nbformat": 4,
 "nbformat_minor": 5
}
