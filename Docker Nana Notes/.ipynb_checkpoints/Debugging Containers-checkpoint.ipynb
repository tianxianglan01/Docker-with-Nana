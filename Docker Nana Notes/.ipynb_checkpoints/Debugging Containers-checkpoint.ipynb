{
 "cells": [
  {
   "cell_type": "markdown",
   "id": "0383b3a1",
   "metadata": {},
   "source": [
    "### We'll be going over the logs for containers for troubleshooting or get inside the container, get the terminal and execute some commands"
   ]
  },
  {
   "cell_type": "markdown",
   "id": "13f23032",
   "metadata": {},
   "source": [
    "Most of the notes from this section can be found in the google spreadsheet. \n",
    "\n",
    "### Docker Run vs Docker Start\n",
    "- docker run is when you create a new container from an image: will take an image with a specific version or latest. You're working with an image\n",
    "- docker start is when you're working with containers, not images. Docker run has many options. Used to restart a stopped container.\n",
    "\n",
    "When you start docker at the beginning, you tell docker what kind of container and what attributes name and so on to create from a sepcific image. (run)\n",
    "\n",
    "Once container is created (docker run), you can stop it or restart it with docker start and specify container id. When started, the container will retain all attributes defined when creating the container using docker run."
   ]
  },
  {
   "cell_type": "code",
   "execution_count": null,
   "id": "a81dd505",
   "metadata": {},
   "outputs": [],
   "source": []
  }
 ],
 "metadata": {
  "kernelspec": {
   "display_name": "Python 3 (ipykernel)",
   "language": "python",
   "name": "python3"
  },
  "language_info": {
   "codemirror_mode": {
    "name": "ipython",
    "version": 3
   },
   "file_extension": ".py",
   "mimetype": "text/x-python",
   "name": "python",
   "nbconvert_exporter": "python",
   "pygments_lexer": "ipython3",
   "version": "3.9.6"
  }
 },
 "nbformat": 4,
 "nbformat_minor": 5
}
