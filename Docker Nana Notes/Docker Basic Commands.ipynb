{
 "cells": [
  {
   "cell_type": "markdown",
   "id": "ccf0bb1c",
   "metadata": {},
   "source": [
    "### Overview\n",
    "\n",
    "Go over\n",
    "- container vs Image\n",
    "- Version and Tag\n",
    "- Docker Commands (pull image locally to start container, ocnfig container, debug container)\n",
    "\n",
    "### List of Docker Commands can be found in google doc resources sheet"
   ]
  },
  {
   "cell_type": "markdown",
   "id": "adc15c8c",
   "metadata": {},
   "source": [
    "### Difference between Container and Image\n",
    "\n",
    "Container is part of the container runtime: is running the environment for the image.\n",
    "\n",
    "From Nana's Diagram, the container holds the file system (logs), environment configs, and the application image. THe enviromental stuff is provided by the container. The container is bound to a port 5000 which makes it possible to talk to the app that is insid ethe container.\n",
    "\n",
    "The file system is virtual in the container. THe container has its own obstraction of a file system and environmen which is different than the host's.\n",
    "\n",
    "Everything in dockerhub is an image. "
   ]
  },
  {
   "cell_type": "markdown",
   "id": "c57d51f5",
   "metadata": {},
   "source": [
    "### Docker Images \n",
    "\n",
    "- as mentioned above, docker command prompts are found on the google sheet\n",
    "- docker images have tags or versions, and size\n",
    "- If you have a dependency on a version, download the specified version\n",
    "- to this point we have only worked with images and there is no container and redis isn't running.\n",
    "- to get redis to run, we need to create a container of the redis image that will make it possible to connect to the redis application\n",
    "- docker run redis\n",
    "\n",
    "Docker detached mode\n",
    "- when the docker container runs in the background of the terminal and doe snot recieve inputs or display outputs. Ergo it doesn't use a whole command prompt tab.\n",
    "\n",
    "What if you want to applications running parrale but they're different versions? I.e. Redis\n",
    "- you would need two redis containers with different images versions running on your computer"
   ]
  },
  {
   "cell_type": "markdown",
   "id": "30ee70a4",
   "metadata": {},
   "source": [
    "### How to use containers\n",
    "\n",
    "- use docker ps to see running containers and then look at the ports column which specified which port the container is listening to incoming requests\n",
    "- both containers open the same port which is specified in the image\n",
    "- look in the logs of the container (after docker run 'app') look for 'running mode = , port = '\n",
    "- no conflicts when both containers are running on the same port\n",
    "\n",
    "### How is there no conflict when both containers are running on the same port?\n",
    "\n",
    "Answer: there is conflict but you can fix it.\n",
    "\n",
    "- the container is the venv running on your host\n",
    "- and you can have multiple containers running on the host machine\n",
    "- your laptop has certain ports available for applications\n",
    "- you need to create a so called binding between a port your host machine has and a container\n",
    "- ie container is listening to port 5000 so you bind laptop's port 5000 to container's port 5000.\n",
    "- there will be ocnflict if you open 2 5000 ports on your host. 'port is already bound or in use'\n",
    "- however you can have 2 containers listen on the same port but can bind to two different ports on host machines. \n",
    "- once the port binding between teh host and the container is done, you can connect to the running container using the port of the host. The host will know how to forward request to container using the port binding. \n",
    "\n",
    "Back to the 2 versions of Redis running at the same time. Both containers are running on the same port and their ports have not yet been bound to the laptop's port. Because of this, the container is unreachable by any application.\n",
    "\n",
    "To fix this, we specify the binding of the ports during the run command."
   ]
  },
  {
   "cell_type": "code",
   "execution_count": null,
   "id": "69ad8263",
   "metadata": {},
   "outputs": [],
   "source": []
  }
 ],
 "metadata": {
  "kernelspec": {
   "display_name": "Python 3 (ipykernel)",
   "language": "python",
   "name": "python3"
  },
  "language_info": {
   "codemirror_mode": {
    "name": "ipython",
    "version": 3
   },
   "file_extension": ".py",
   "mimetype": "text/x-python",
   "name": "python",
   "nbconvert_exporter": "python",
   "pygments_lexer": "ipython3",
   "version": "3.9.6"
  }
 },
 "nbformat": 4,
 "nbformat_minor": 5
}
