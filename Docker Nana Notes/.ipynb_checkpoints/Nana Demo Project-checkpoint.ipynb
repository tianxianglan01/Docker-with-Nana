{
 "cells": [
  {
   "cell_type": "markdown",
   "id": "a656e641",
   "metadata": {},
   "source": [
    "### Look at how docker is used in practice\n",
    "\n",
    "SWE has steps of development such as CI/CD and then it's deployed on some enviroment (test/development) so we want to see how docker is integrated into these steps.\n",
    "\n",
    "We'll look at the overview of the flow and see how Docker is used in those individual steps. \n",
    "\n",
    "### Scenario: develop a JS app on your local development enviornment\n",
    "You're create a JS app that uses mongodb. Instead of downloading mongodb to your laptop, you download it from dockerhub. You connect JS app with MongoDB (that's in docker) and you start developing. \n",
    "\n",
    "You develop the first version of the app locally and then want to test it or deploy it on the development environment with testers form your team who will test it. You commit JS app to git and that will trigger CI (jenkins build) which will produce artifacts from your application. \n",
    "\n",
    "FIrst build JS application. Then create a docker image out of that JS artifact. \n",
    "\n",
    "What happens to this JS image once it's created by the Jenkins build? It gets pushed to a private docker repository (say a company's personal repository). \n",
    "\n",
    "Next step is configured on jenkins or other scripts or tools. Docker images must be deployed on a development server. The development server pulls a docker image from the private repository (your js app image) and then pulls MongoDB that your JS app depends on from Dockerhub. \n",
    "\n",
    "NOw you have 2 containers: one is your custom container and a publicly available (from dockerhub) MongoDB container running on dev server. The two containers talk and communicate with one another (have to config) and run as an app. \n",
    "\n",
    "Now if a tester/developer logs in to the dev server, they will be able to test the application. "
   ]
  },
  {
   "cell_type": "code",
   "execution_count": null,
   "id": "a666911b",
   "metadata": {},
   "outputs": [],
   "source": []
  }
 ],
 "metadata": {
  "kernelspec": {
   "display_name": "Python 3 (ipykernel)",
   "language": "python",
   "name": "python3"
  },
  "language_info": {
   "codemirror_mode": {
    "name": "ipython",
    "version": 3
   },
   "file_extension": ".py",
   "mimetype": "text/x-python",
   "name": "python",
   "nbconvert_exporter": "python",
   "pygments_lexer": "ipython3",
   "version": "3.9.6"
  }
 },
 "nbformat": 4,
 "nbformat_minor": 5
}
